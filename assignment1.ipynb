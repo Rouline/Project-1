{
 "cells": [
  {
   "cell_type": "code",
   "execution_count": 1,
   "metadata": {},
   "outputs": [
    {
     "name": "stdin",
     "output_type": "stream",
     "text": [
      "Enter first and last name Rouline Moses\n"
     ]
    },
    {
     "name": "stdout",
     "output_type": "stream",
     "text": [
      "Rouline Moses\n",
      "\n",
      "What are your goals for this class - long term?\n"
     ]
    },
    {
     "name": "stdin",
     "output_type": "stream",
     "text": [
      "What would you to be...when all is said and done with the class? Thanks for introducing me to the world of Programming(Python)\n"
     ]
    },
    {
     "name": "stdout",
     "output_type": "stream",
     "text": [
      "Thanks for introducing me to the world of Programming(Python)\n"
     ]
    }
   ],
   "source": [
    "#Enter first name and last name\n",
    "names = input(\"Enter first and last name\")\n",
    "print(names)\n",
    "print()\n",
    "\n",
    "#Enter your goals for this class\n",
    "print(\"What are your goals for this class - long term?\")\n",
    "goals = input(\"What would you to be...when all is said and done with the class?\")\n",
    "print(goals)"
   ]
  },
  {
   "cell_type": "code",
   "execution_count": null,
   "metadata": {},
   "outputs": [],
   "source": []
  }
 ],
 "metadata": {
  "kernelspec": {
   "display_name": "Python 3",
   "language": "python",
   "name": "python3"
  },
  "language_info": {
   "codemirror_mode": {
    "name": "ipython",
    "version": 3
   },
   "file_extension": ".py",
   "mimetype": "text/x-python",
   "name": "python",
   "nbconvert_exporter": "python",
   "pygments_lexer": "ipython3",
   "version": "3.7.6"
  }
 },
 "nbformat": 4,
 "nbformat_minor": 4
}
